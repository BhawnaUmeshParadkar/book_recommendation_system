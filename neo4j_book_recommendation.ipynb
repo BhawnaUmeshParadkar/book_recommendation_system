{
 "cells": [
  {
   "cell_type": "markdown",
   "metadata": {},
   "source": [
    "# 📚 Neo4j Book Recommendation System\n",
    "\n",
    "This Jupyter Notebook sets up a **book recommendation system** using **Neo4j** and **Cypher queries**.\n",
    "\n",
    "---"
   ]
  },
  {
   "cell_type": "code",
   "execution_count": null,
   "metadata": {},
   "outputs": [],
   "source": [
    "# 📌 Install Neo4j Python Driver\n",
    "!pip install neo4j"
   ]
  },
  {
   "cell_type": "code",
   "execution_count": null,
   "metadata": {},
   "outputs": [],
   "source": [
    "# 📌 Connect to Neo4j\n",
    "from neo4j import GraphDatabase\n",
    "\n",
    "# Replace with your Neo4j connection details\n",
    "URI = \"bolt://localhost:7687\"  # Update if running remotely\n",
    "USERNAME = \"neo4j\"\n",
    "PASSWORD = \"password\"\n",
    "\n",
    "driver = GraphDatabase.driver(URI, auth=(USERNAME, PASSWORD))"
   ]
  },
  {
   "cell_type": "markdown",
   "metadata": {},
   "source": [
    "## 🏗️ Step 1: Create Users"
   ]
  },
  {
   "cell_type": "code",
   "execution_count": null,
   "metadata": {},
   "outputs": [],
   "source": [
    "def create_users(tx):\n",
    "    query = \"\"\"\n",
    "    CREATE (:User {id: 1, name: 'Alice'});\n",
    "    CREATE (:User {id: 2, name: 'Bob'});\n",
    "    CREATE (:User {id: 3, name: 'Charlie'});\n",
    "    \"\"\"\n",
    "    tx.run(query)\n",
    "\n",
    "with driver.session() as session:\n",
    "    session.write_transaction(create_users)\n",
    "print(\"Users Created! ✅\")"
   ]
  },
  {
   "cell_type": "markdown",
   "metadata": {},
   "source": [
    "## 🏗️ Step 2: Create Books"
   ]
  },
  {
   "cell_type": "code",
   "execution_count": null,
   "metadata": {},
   "outputs": [],
   "source": [
    "def create_books(tx):\n",
    "    query = \"\"\"\n",
    "    CREATE (:Book {id: 101, title: '1984', genre: 'Dystopian'});\n",
    "    CREATE (:Book {id: 102, title: 'Brave New World', genre: 'Dystopian'});\n",
    "    CREATE (:Book {id: 103, title: 'The Hobbit', genre: 'Fantasy'});\n",
    "    CREATE (:Book {id: 104, title: 'The Catcher in the Rye', genre: 'Classic'});\n",
    "    CREATE (:Book {id: 105, title: 'The Great Gatsby', genre: 'Classic'});\n",
    "    \"\"\"\n",
    "    tx.run(query)\n",
    "\n",
    "with driver.session() as session:\n",
    "    session.write_transaction(create_books)\n",
    "print(\"Books Created! ✅\")"
   ]
  },
  {
   "cell_type": "markdown",
   "metadata": {},
   "source": [
    "## 🏗️ Step 3: Create Genres"
   ]
  },
  {
   "cell_type": "code",
   "execution_count": null,
   "metadata": {},
   "outputs": [],
   "source": [
    "def create_genres(tx):\n",
    "    query = \"\"\"\n",
    "    CREATE (:Genre {name: 'Dystopian'});\n",
    "    CREATE (:Genre {name: 'Fantasy'});\n",
    "    CREATE (:Genre {name: 'Classic'});\n",
    "    \"\"\"\n",
    "    tx.run(query)\n",
    "\n",
    "with driver.session() as session:\n",
    "    session.write_transaction(create_genres)\n",
    "print(\"Genres Created! ✅\")"
   ]
  },
  {
   "cell_type": "markdown",
   "metadata": {},
   "source": [
    "## 🔍 Step 4: Run Book Recommendation Queries"
   ]
  },
  {
   "cell_type": "code",
   "execution_count": null,
   "metadata": {},
   "outputs": [],
   "source": [
    "def recommend_books_by_genre(tx, user_id):\n",
    "    query = \"\"\"\n",
    "    MATCH (u:User {id: $user_id})-[:LIKES]->(g:Genre)<-[:BELONGS_TO]-(b:Book)\n",
    "    WHERE NOT (u)-[:READ]->(b)\n",
    "    RETURN b.title AS RecommendedBooks;\n",
    "    \"\"\"\n",
    "    result = tx.run(query, user_id=user_id)\n",
    "    return [record['RecommendedBooks'] for record in result]\n",
    "\n",
    "with driver.session() as session:\n",
    "    recommendations = session.read_transaction(recommend_books_by_genre, user_id=1)\n",
    "\n",
    "print(\"📚 Recommended Books for User 1:\", recommendations)"
   ]
  },
  {
   "cell_type": "markdown",
   "metadata": {},
   "source": [
    "## 📌 Future Enhancements\n",
    "- Add **author relationships**\n",
    "- Implement **collaborative filtering**\n",
    "- Use **real-time user feedback**\n",
    "\n",
    "---\n",
    "🚀 **Graph-Powered Book Recommendations with Neo4j & Cypher!** 📚"
   ]
  }
 ],
 "metadata": {
  "kernelspec": {
   "display_name": "Python 3",
   "language": "python",
   "name": "python3"
  },
  "language_info": {
   "codemirror_mode": {
    "name": "ipython",
    "version": 3
   },
   "file_extension": ".py",
   "mimetype": "text/x-python",
   "name": "python",
   "nbconvert_exporter": "python",
   "pygments_lexer": "ipython3",
   "version": "3.8.10"
  }
 },
 "nbformat": 4,
 "nbformat_minor": 4
}
